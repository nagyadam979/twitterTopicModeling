{
  "nbformat": 4,
  "nbformat_minor": 0,
  "metadata": {
    "colab": {
      "name": "twitterTopicModeling.ipynb",
      "provenance": [],
      "collapsed_sections": [],
      "authorship_tag": "ABX9TyOZ0w85HQFCEiXXYkDrF2Fs",
      "include_colab_link": true
    },
    "kernelspec": {
      "name": "python3",
      "display_name": "Python 3"
    },
    "language_info": {
      "name": "python"
    },
    "accelerator": "GPU"
  },
  "cells": [
    {
      "cell_type": "markdown",
      "metadata": {
        "id": "view-in-github",
        "colab_type": "text"
      },
      "source": [
        "<a href=\"https://colab.research.google.com/github/shaikadish/twitterTopicModeling/blob/main/twitterTopicModeling.ipynb\" target=\"_parent\"><img src=\"https://colab.research.google.com/assets/colab-badge.svg\" alt=\"Open In Colab\"/></a>"
      ]
    },
    {
      "cell_type": "markdown",
      "source": [
        "# Twitter Topic Modeling\n",
        "\n",
        "Topic modeling is an extremely powerful data analysis tool, whereby documents within a larger set are grouped together into sub-sets, based on the information content found within the documents. This unsupervised process automates the grouping of documents, making it a valuable tool in the analysis of large unstructured datasets. \n",
        "\n",
        "In our example, we will be applying modern topic modeling techniques to a set of tweets (documents) generated using the *Twitter API* *. This tutorial will explain the steps of this process, and the reasoning behind the various algorithms applied throughout.\n",
        "\n",
        "The tutorial is broken up into three steps: First, we will extract the tweets from Twitter. Next, we will generate topics from the tweets. Finally, we will process these topics and see what information we can get from them. Lets get started!\n",
        "\n",
        "\n",
        "\n",
        "\n",
        "**you will need to generate your own bearer token for the API by following [this link](https://developer.twitter.com/en/docs/twitter-api)*\n"
      ],
      "metadata": {
        "id": "0W9jeLw_3zpL"
      }
    },
    {
      "cell_type": "code",
      "source": [
        "# Install required libraries\n",
        "!pip install sentence_transformers\n",
        "!pip install pysentimiento\n",
        "!pip install pyyaml==5.4.1\n",
        "!pip install umap-learn\n",
        "!pip install hdbscan\n",
        "!git clone https://github.com/MaartenGr/cTFIDF.git"
      ],
      "metadata": {
        "id": "7OBJXqO8CNfJ"
      },
      "execution_count": null,
      "outputs": []
    },
    {
      "cell_type": "markdown",
      "source": [
        "# Tweet extraction\n",
        "\n",
        "The first thing we need to do is extract the Tweets from twitter using the *Twitter API*. We will create a set of functions to modularise this process."
      ],
      "metadata": {
        "id": "MJIrdK_DBEa9"
      }
    },
    {
      "cell_type": "code",
      "source": [
        "# Imports for tweet extraction\n",
        "import time\n",
        "import json\n",
        "from requests.api import get\n",
        "from datetime import datetime\n",
        "import requests\n",
        "import dateutil.parser as parser\n",
        "from pysentimiento.preprocessing import preprocess_tweet\n",
        "import nltk\n",
        "nltk.download('stopwords')"
      ],
      "metadata": {
        "id": "yFTTGvQwBDZ4"
      },
      "execution_count": null,
      "outputs": []
    },
    {
      "cell_type": "markdown",
      "source": [
        "First we create a set of functions to interface with the *Twitter API*. To better understand the request queries used here, I recommend checking out the [documentation](https://developer.twitter.com/en/docs/twitter-api/tweets/search/introduction) of the *Twitter API*."
      ],
      "metadata": {
        "id": "0DR9ncu6su6R"
      }
    },
    {
      "cell_type": "code",
      "source": [
        "# Use bearer token to access Twitter API\n",
        "bearer_token = 'YOUR BEARER TOKEN'\n",
        "headers = {\"Authorization\": \"Bearer {}\".format(bearer_token)}\n",
        "\n",
        "def get_query_params(search_query,start_time,end_time, max_results = 100):\n",
        "\n",
        "    # Return query for twitter API to request tweets for a given search query\n",
        "    return {'query': f\"{search_query} lang:en -is:retweet\",\n",
        "            'start_time': start_time,\n",
        "            'end_time': end_time,\n",
        "            'user.fields': 'id,created_at,username,name,description,location,public_metrics,url,verified,entities',\n",
        "            'tweet.fields': 'author_id,in_reply_to_user_id,created_at,conversation_id,public_metrics,lang,geo,referenced_tweets,entities',\n",
        "            'expansions': 'author_id',\n",
        "            'max_results': max_results}\n",
        "\n",
        "\n",
        "def request_tweets(search_query,granularity='day', start_time=None, end_time=None, max_count = 50) -> dict:\n",
        "    \n",
        "    # URL used in generating requests\n",
        "    url = \"https://api.twitter.com/2/tweets/search/recent\"\n",
        "\n",
        "    # Generate start and end date for tweet requests\n",
        "    if start_time:\n",
        "       start_time = parser.parse(start_time).isoformat()+'Z'\n",
        "    if end_time:\n",
        "        end_time = parser.parse(end_time).isoformat()+'Z'\n",
        "\n",
        "    # Get request query for specific search query over a given time period\n",
        "    params = get_query_params('#'+' #'.join(search_query),start_time,end_time)\n",
        "\n",
        "    # Get requests\n",
        "    all_responses = []\n",
        "    response = requests.request(\"GET\", url, headers=headers, params = params).json()\n",
        "    all_responses.extend(response['data'])\n",
        "    time.sleep(2)\n",
        "    id_list=[]\n",
        "\n",
        "    # Parse requests\n",
        "    while 'next_token' in response['meta'] and len(all_responses) < max_count:\n",
        "        params['next_token'] = response['meta']['next_token']\n",
        "        response = requests.request(\"GET\", url, headers=headers, params = params).json()\n",
        "        \n",
        "        time.sleep(2)\n",
        "          \n",
        "        all_responses.extend(response['data'])\n",
        "\n",
        "    return all_responses"
      ],
      "metadata": {
        "id": "bC4y4mDq9_Pj"
      },
      "execution_count": 5,
      "outputs": []
    },
    {
      "cell_type": "markdown",
      "source": [
        "Next we create a function which makes use of the above functions to extract tweets from twitter. This function takes in the desired `hashtags` we will be searching for, as well as the `period` in days over which we will be looking over. There is also a parameter `tweet_count` which sets the number of tweets requested from Twitter."
      ],
      "metadata": {
        "id": "bO95T41DtdX-"
      }
    },
    {
      "cell_type": "code",
      "source": [
        "def get_tweets(hashtags,period=7,tweet_count=100):\n",
        "    \n",
        "    # Get start and end date from period (number of days prior to today over which we are generating tweets)\n",
        "    today = datetime.now()\n",
        "    today = today.strftime(\"%m/%d/%Y\") \n",
        "    begin_period = today.split('/')\n",
        "    if int(begin_period[1]) <= period:\n",
        "        begin_period[0] = str(int(begin_period[0])-1)\n",
        "        begin_period[1] = str(31-period)\n",
        "    else:\n",
        "        begin_period[1] = str(int(begin_period[1])-period)\n",
        "    begin_period='/'.join(begin_period)\n",
        "\n",
        "    # Generate and return tweets using hashtags as the search query, over <period> days\n",
        "    return request_tweets(hashtags,start_time=begin_period,end_time=today,max_count=tweet_count)"
      ],
      "metadata": {
        "id": "caPI-Co2A_Dx"
      },
      "execution_count": 6,
      "outputs": []
    },
    {
      "cell_type": "markdown",
      "source": [
        "The next function we create parses the raw tweet data from the *Twitter API* to extract the text from the tweets. This text is processed within the function to remove undesirable artifacts from the *Twitter API*. [PySentimiento](https://github.com/pysentimiento/pysentimiento) is used to process the raw tweets and output text which is more human-readable."
      ],
      "metadata": {
        "id": "qJnlLYjWuDLx"
      }
    },
    {
      "cell_type": "code",
      "source": [
        "def get_text(tags,period,tweet_count):\n",
        "\n",
        "    # Get tweets from twitter\n",
        "    tweets = get_tweets(tags,period,tweet_count)\n",
        "\n",
        "    # Process tweet text from tweets\n",
        "    text = []\n",
        "    stops = {'emoji','url','@usuario','usuario'}\n",
        "    for tweet in tweets:\n",
        "      # Process tweet using pysentimiento\n",
        "      line_list = preprocess_tweet(tweet['text'],lang = \"en\",user_token = '',url_token = '').split('\\n')\n",
        "      # Remove source website\n",
        "      if line_list[0][0] == '[' and line_list[0][-1] == ']':\n",
        "        line_list = line_list[1:]\n",
        "      # Remove stop words\n",
        "      new_text = ' '.join(line_list)\n",
        "      new_text = ' '.join([word for word in new_text.split(' ') if  not(word in stops)])\n",
        "      \n",
        "      text.append(new_text)\n",
        "\n",
        "    return text"
      ],
      "metadata": {
        "id": "wX3HdOoICzeI"
      },
      "execution_count": 9,
      "outputs": []
    },
    {
      "cell_type": "markdown",
      "source": [
        "We now make use of `get_text` to extract the tweets. We will extract 1000 tweets with the hashtag *f1* from the last 6 days. I am a big Formula1 fan, and at the time of writing, the Monaco Grand Prix happened yesterday, so there will be a tons of discourse online related to the race. "
      ],
      "metadata": {
        "id": "R0qnbcxguxZV"
      }
    },
    {
      "cell_type": "code",
      "source": [
        "# Generate 1000 tweets from the last 6 days using the hashtag 'f1'\n",
        "text = get_text(['f1'],6,1000)\n",
        "\n",
        "print(text[109])"
      ],
      "metadata": {
        "colab": {
          "base_uri": "https://localhost:8080/"
        },
        "id": "h3BOo5ke_TBD",
        "outputId": "b82f9928-e3ac-4f64-923d-c5d559c99744"
      },
      "execution_count": 23,
      "outputs": [
        {
          "output_type": "stream",
          "name": "stdout",
          "text": [
            "Congratulations to Checo for winning the Grand Prix. Disappointing that Lclerc didn't win this, I think Ferrari let him down. Red bull would be pretty happy with that result. monaco gp  f1\n"
          ]
        }
      ]
    },
    {
      "cell_type": "markdown",
      "source": [
        "Looks good! the text output is human readable, and clearly related to Formula1. Lets proceed! 🏎 🏎 🏎"
      ],
      "metadata": {
        "id": "kZHJNHf1vQz-"
      }
    },
    {
      "cell_type": "markdown",
      "source": [
        "# Topic Modeling\n",
        "\n",
        "Now that we have our tweets, we can group them together using topic modeling techniques. \n",
        "\n",
        "The approach we are using makes use of [a sentence Transformer Model](https://huggingface.co/sentence-transformers/all-mpnet-base-v2) to extract encodings for each tweet. Sentence Transformers have been shown to be more effective than traditional encoding techniques (like LDA) in terms of their preservation of semantic information from the source document, and hense are a good choice for topic modeling. \n",
        "\n",
        "We group the sentence encodings using [HDBSCAN](https://hdbscan.readthedocs.io/en/latest/how_hdbscan_works.html). This clustering algorithm is good for the current task, because it does not require us to set the number of topics (like K-means clustering) and it is able to reject documents from any clusters by labeling them as noise. This is especially useful for our task, because a big problem with tweet data is the vast amounts of spam and automatic posts made by bots found on the site. These posts can be completely unrelated to the search term, placing them far from the main topic cluster within the vector space produced by the Sentence Transformer. HDBSCAN will reject many of these noisy datapoints, idealy leaving us with only clusters containing the desired tweets. \n",
        "\n",
        "To represent the topic clusters in vector space, we make use of [UMAP](https://umap-learn.readthedocs.io/en/latest/) for dimensionality reduction. UMAP maintains local structure when reducing the encoding dimensions, making it effective at representing the topic clusters in lower-dimensional space."
      ],
      "metadata": {
        "id": "K5xIHoEdCSAc"
      }
    },
    {
      "cell_type": "code",
      "source": [
        "# Imports for topic generation\n",
        "import numpy as np\n",
        "from sentence_transformers import SentenceTransformer\n",
        "import matplotlib.pyplot as plt\n",
        "import pandas as pd\n",
        "import umap\n",
        "import hdbscan\n",
        "import torch"
      ],
      "metadata": {
        "id": "E1HUna4OBV1r"
      },
      "execution_count": 24,
      "outputs": []
    },
    {
      "cell_type": "markdown",
      "source": [
        "This function extracts encodings from a list of tweets using the Sentence Transformer. "
      ],
      "metadata": {
        "id": "jUKlgpgF1rZq"
      }
    },
    {
      "cell_type": "code",
      "source": [
        "def get_tweet_embedding(text):\n",
        "    \n",
        "    # Load encoder model\n",
        "    device = torch.device('cuda' if torch.cuda.is_available() else 'cpu')\n",
        "    model=SentenceTransformer('sentence-transformers/all-mpnet-base-v2').to(device)\n",
        "\n",
        "    # Encode tweets\n",
        "    embedding=[]\n",
        "    for tweet in text:\n",
        "        embedding.append(model.encode(tweet))\n",
        "    embedding = np.array(embedding)\n",
        "    \n",
        "    return embedding"
      ],
      "metadata": {
        "id": "XbzuIRf6-khK"
      },
      "execution_count": 11,
      "outputs": []
    },
    {
      "cell_type": "markdown",
      "source": [
        "Now that we can extract tweet encodings, we can cluster them together using the function bellow. This function calls the HDBSCAN clustering algorithm, and generates the lower-dimensional representation of the tweet-clusters. \n",
        "\n"
      ],
      "metadata": {
        "id": "SLuPuRyc17-U"
      }
    },
    {
      "cell_type": "code",
      "source": [
        "def get_topic_labels(vectors,min_cluster_size):\n",
        "    \n",
        "    # Cluster tweet encodings using HDBScan\n",
        "    cluster = hdbscan.HDBSCAN(min_cluster_size=min_cluster_size,\n",
        "                          metric='euclidean',                      \n",
        "                          cluster_selection_method='eom').fit(vectors)\n",
        "    \n",
        "    # Plot clusters by reducing embeddings to 3D using umap\n",
        "    fit = umap.UMAP(n_components=3,n_neighbors=15,metric='cosine')\n",
        "    reduced_data = fit.fit_transform(vectors)\n",
        "    result = pd.DataFrame(reduced_data,columns=['x','y','z'])\n",
        "\n",
        "    # Color each cluster using its unique label\n",
        "    result['labels'] = cluster.labels_\n",
        "    clustered = result.loc[result.labels != -1]\n",
        "    ax = plt.axes(projection = '3d')\n",
        "    ax.scatter3D(clustered.x,clustered.y,clustered.z,c = clustered.labels)\n",
        "\n",
        "    return cluster.labels_"
      ],
      "metadata": {
        "id": "_W7i7V2PBurq"
      },
      "execution_count": 25,
      "outputs": []
    },
    {
      "cell_type": "markdown",
      "source": [
        "The function bellow wraps up all the tweet-clustering functions into one function. This function encodes the input tweets, generates topic labels for them, and returns a pandas DataFrame containing the input tweets labelled by topic."
      ],
      "metadata": {
        "id": "3OldfYsY2oxg"
      }
    },
    {
      "cell_type": "code",
      "source": [
        "def get_tweet_label_df(text,min_cluster_size):\n",
        "\n",
        "  # Generate tweet embeddings\n",
        "  tweet_embeddings = get_tweet_embedding(text)\n",
        "\n",
        "  # Generate topics\n",
        "  labels = get_topic_labels(tweet_embeddings,min_cluster_size)\n",
        "\n",
        "  # Generate data for DataFrame using tweets and corresponding topic labels\n",
        "  data = {'tweet':text,'topic':labels}\n",
        "\n",
        "  return pd.DataFrame(data = data)"
      ],
      "metadata": {
        "id": "D1KvoG2kJbIN"
      },
      "execution_count": 29,
      "outputs": []
    },
    {
      "cell_type": "markdown",
      "source": [
        "With all functions implemented, lets generate some topics!"
      ],
      "metadata": {
        "id": "6dfcwAiF274Z"
      }
    },
    {
      "cell_type": "code",
      "source": [
        "# Generate DataFrame of tweets and topics, with a minumum topic size of 10 tweets\n",
        "tweets_with_topics = get_tweet_label_df(text,10)"
      ],
      "metadata": {
        "colab": {
          "base_uri": "https://localhost:8080/",
          "height": 248
        },
        "id": "cRB_BvANFsOZ",
        "outputId": "fcb3762a-55ee-4d79-bd34-70083e7e1636"
      },
      "execution_count": 30,
      "outputs": [
        {
          "output_type": "display_data",
          "data": {
            "text/plain": [
              "<Figure size 432x288 with 1 Axes>"
            ],
            "image/png": "[encoded data removed]"
          },
          "metadata": {
            "needs_background": "light"
          }
        }
      ]
    },
    {
      "cell_type": "markdown",
      "source": [
        "Hmmmm... 🤔\n",
        "\n",
        "Something doesn't seem quite right here. There are 6 outlying groups! Let's try figure out what is going on with these groups in the section bellow."
      ],
      "metadata": {
        "id": "EcK915Ww3BwL"
      }
    },
    {
      "cell_type": "markdown",
      "source": [
        "# Topic Processing\n",
        "\n",
        "We now have great functions for extracting tweets and grouping them within topics, but we still need to do some processing of these topics to ensure that we are getting the output that we want, and to analyse the clusters. Remember, topic modeling is an unsupervised tool, so some interpretation and post-processing will always be required in evaluating its outputs."
      ],
      "metadata": {
        "id": "muhTcpBKOTL6"
      }
    },
    {
      "cell_type": "code",
      "source": [
        "# Imports for topic processing\n",
        "import pandas as pd\n",
        "from sklearn.feature_extraction.text import CountVectorizer\n",
        "from cTFIDF.ctfidf import CTFIDFVectorizer\n",
        "from nltk.corpus import stopwords\n",
        "from transformers import AutoTokenizer,AutoModelForSequenceClassification\n",
        "import random"
      ],
      "metadata": {
        "id": "MpqYP4VvY-Wg"
      },
      "execution_count": 31,
      "outputs": []
    },
    {
      "cell_type": "markdown",
      "source": [
        "Let's take a look at those outliers that we identified above. We will do this by ranking the grouped topics by their sizes (in terms of how many tweets each topic contains), and taking a look at the small outlying groups.\n",
        "\n"
      ],
      "metadata": {
        "id": "On6-4ETZ3n9t"
      }
    },
    {
      "cell_type": "code",
      "source": [
        "# Generate list of topics ranked by topic size\n",
        "ranked_topics = tweets_with_topics.topic.value_counts().index.to_list()\n",
        "\n",
        "tweets_with_topics[tweets_with_topics.topic == ranked_topics[-1]].head()"
      ],
      "metadata": {
        "colab": {
          "base_uri": "https://localhost:8080/",
          "height": 314
        },
        "id": "hgPwUsESAj_Y",
        "outputId": "c9405f55-4901-4e7e-9dbe-3a71ef1c352f"
      },
      "execution_count": 43,
      "outputs": [
        {
          "output_type": "execute_result",
          "data": {
            "text/plain": [
              "                                                 tweet  topic\n",
              "213  Steve Harvey hate WHITES-rob BLACKS. Uses GOD ...      2\n",
              "215  Steve Harvey hate WHITES-rob BLACKS. Uses GOD ...      2\n",
              "216  Steve Harvey hate WHITES-rob BLACKS. Uses GOD ...      2\n",
              "217  Steve Harvey hate WHITES-rob BLACKS. Uses GOD ...      2\n",
              "218  Steve Harvey hate WHITES-rob BLACKS. Uses GOD ...      2"
            ],
            "text/html": [
              "\n",
              "  <div id=\"df-0eeef41a-1429-45eb-840e-81f10fbd76d8\">\n",
              "    <div class=\"colab-df-container\">\n",
              "      <div>\n",
              "<style scoped>\n",
              "    .dataframe tbody tr th:only-of-type {\n",
              "        vertical-align: middle;\n",
              "    }\n",
              "\n",
              "    .dataframe tbody tr th {\n",
              "        vertical-align: top;\n",
              "    }\n",
              "\n",
              "    .dataframe thead th {\n",
              "        text-align: right;\n",
              "    }\n",
              "</style>\n",
              "<table border=\"1\" class=\"dataframe\">\n",
              "  <thead>\n",
              "    <tr style=\"text-align: right;\">\n",
              "      <th></th>\n",
              "      <th>tweet</th>\n",
              "      <th>topic</th>\n",
              "    </tr>\n",
              "  </thead>\n",
              "  <tbody>\n",
              "    <tr>\n",
              "      <th>213</th>\n",
              "      <td>Steve Harvey hate WHITES-rob BLACKS. Uses GOD ...</td>\n",
              "      <td>2</td>\n",
              "    </tr>\n",
              "    <tr>\n",
              "      <th>215</th>\n",
              "      <td>Steve Harvey hate WHITES-rob BLACKS. Uses GOD ...</td>\n",
              "      <td>2</td>\n",
              "    </tr>\n",
              "    <tr>\n",
              "      <th>216</th>\n",
              "      <td>Steve Harvey hate WHITES-rob BLACKS. Uses GOD ...</td>\n",
              "      <td>2</td>\n",
              "    </tr>\n",
              "    <tr>\n",
              "      <th>217</th>\n",
              "      <td>Steve Harvey hate WHITES-rob BLACKS. Uses GOD ...</td>\n",
              "      <td>2</td>\n",
              "    </tr>\n",
              "    <tr>\n",
              "      <th>218</th>\n",
              "      <td>Steve Harvey hate WHITES-rob BLACKS. Uses GOD ...</td>\n",
              "      <td>2</td>\n",
              "    </tr>\n",
              "  </tbody>\n",
              "</table>\n",
              "</div>\n",
              "      <button class=\"colab-df-convert\" onclick=\"convertToInteractive('df-0eeef41a-1429-45eb-840e-81f10fbd76d8')\"\n",
              "              title=\"Convert this dataframe to an interactive table.\"\n",
              "              style=\"display:none;\">\n",
              "        \n",
              "  <svg xmlns=\"http://www.w3.org/2000/svg\" height=\"24px\"viewBox=\"0 0 24 24\"\n",
              "       width=\"24px\">\n",
              "    <path d=\"M0 0h24v24H0V0z\" fill=\"none\"/>\n",
              "    <path d=\"M18.56 5.44l.94 2.06.94-2.06 2.06-.94-2.06-.94-.94-2.06-.94 2.06-2.06.94zm-11 1L8.5 8.5l.94-2.06 2.06-.94-2.06-.94L8.5 2.5l-.94 2.06-2.06.94zm10 10l.94 2.06.94-2.06 2.06-.94-2.06-.94-.94-2.06-.94 2.06-2.06.94z\"/><path d=\"M17.41 7.96l-1.37-1.37c-.4-.4-.92-.59-1.43-.59-.52 0-1.04.2-1.43.59L10.3 9.45l-7.72 7.72c-.78.78-.78 2.05 0 2.83L4 21.41c.39.39.9.59 1.41.59.51 0 1.02-.2 1.41-.59l7.78-7.78 2.81-2.81c.8-.78.8-2.07 0-2.86zM5.41 20L4 18.59l7.72-7.72 1.47 1.35L5.41 20z\"/>\n",
              "  </svg>\n",
              "      </button>\n",
              "      \n",
              "  <style>\n",
              "    .colab-df-container {\n",
              "      display:flex;\n",
              "      flex-wrap:wrap;\n",
              "      gap: 12px;\n",
              "    }\n",
              "\n",
              "    .colab-df-convert {\n",
              "      background-color: #E8F0FE;\n",
              "      border: none;\n",
              "      border-radius: 50%;\n",
              "      cursor: pointer;\n",
              "      display: none;\n",
              "      fill: #1967D2;\n",
              "      height: 32px;\n",
              "      padding: 0 0 0 0;\n",
              "      width: 32px;\n",
              "    }\n",
              "\n",
              "    .colab-df-convert:hover {\n",
              "      background-color: #E2EBFA;\n",
              "      box-shadow: 0px 1px 2px rgba(60, 64, 67, 0.3), 0px 1px 3px 1px rgba(60, 64, 67, 0.15);\n",
              "      fill: #174EA6;\n",
              "    }\n",
              "\n",
              "    [theme=dark] .colab-df-convert {\n",
              "      background-color: #3B4455;\n",
              "      fill: #D2E3FC;\n",
              "    }\n",
              "\n",
              "    [theme=dark] .colab-df-convert:hover {\n",
              "      background-color: #434B5C;\n",
              "      box-shadow: 0px 1px 3px 1px rgba(0, 0, 0, 0.15);\n",
              "      filter: drop-shadow(0px 1px 2px rgba(0, 0, 0, 0.3));\n",
              "      fill: #FFFFFF;\n",
              "    }\n",
              "  </style>\n",
              "\n",
              "      <script>\n",
              "        const buttonEl =\n",
              "          document.querySelector('#df-0eeef41a-1429-45eb-840e-81f10fbd76d8 button.colab-df-convert');\n",
              "        buttonEl.style.display =\n",
              "          google.colab.kernel.accessAllowed ? 'block' : 'none';\n",
              "\n",
              "        async function convertToInteractive(key) {\n",
              "          const element = document.querySelector('#df-0eeef41a-1429-45eb-840e-81f10fbd76d8');\n",
              "          const dataTable =\n",
              "            await google.colab.kernel.invokeFunction('convertToInteractive',\n",
              "                                                     [key], {});\n",
              "          if (!dataTable) return;\n",
              "\n",
              "          const docLinkHtml = 'Like what you see? Visit the ' +\n",
              "            '<a target=\"_blank\" href=https://colab.research.google.com/notebooks/data_table.ipynb>data table notebook</a>'\n",
              "            + ' to learn more about interactive tables.';\n",
              "          element.innerHTML = '';\n",
              "          dataTable['output_type'] = 'display_data';\n",
              "          await google.colab.output.renderOutput(dataTable, element);\n",
              "          const docLink = document.createElement('div');\n",
              "          docLink.innerHTML = docLinkHtml;\n",
              "          element.appendChild(docLink);\n",
              "        }\n",
              "      </script>\n",
              "    </div>\n",
              "  </div>\n",
              "  "
            ]
          },
          "metadata": {},
          "execution_count": 43
        }
      ]
    },
    {
      "cell_type": "markdown",
      "source": [
        "Okay... it may just be me, but I do not see what Steve Harvey hating white people has to do with Formula1. \n",
        "\n",
        "This is clearly an example of the spam posting I mentioned earlier. In some cases, there are enough spam posts on a specific topic for those posts to be identified as their own unique topic, rather than noisy outliers.\n",
        "\n",
        "Luckily, the largest cluster contains the vast majority of the tweets, and this cluster actually relates to Formula1. This large cluster emerges because the outliers are so far apart that all topics related to Formula1 are grouped as a single large topic. This is actually very useful for us, because all we need to do is take the tweets from this large topic, and then find sub-topics within it! This is effectively a very simple and easy way to remove noise from our document set."
      ],
      "metadata": {
        "id": "AJZjbJ9K3-GZ"
      }
    },
    {
      "cell_type": "code",
      "source": [
        "# Get topic number of topic containing the most tweets\n",
        "biggest_topic = ranked_topics[0]\n",
        "\n",
        "# Generate new tweets with topics using the biggest topic from the original clustering\n",
        "new_text = tweets_with_topics.tweet[tweets_with_topics.topic == biggest_topic].to_list()\n",
        "new_tweets_with_topics = get_tweet_label_df(new_text,15)"
      ],
      "metadata": {
        "colab": {
          "base_uri": "https://localhost:8080/",
          "height": 248
        },
        "id": "1VGAIuFj8sg3",
        "outputId": "c1693676-6f5a-42bd-ed23-15530f5bf59a"
      },
      "execution_count": 56,
      "outputs": [
        {
          "output_type": "display_data",
          "data": {
            "text/plain": [
              "<Figure size 432x288 with 1 Axes>"
            ],
            "image/png": "[encoded data removed]"
          },
          "metadata": {
            "needs_background": "light"
          }
        }
      ]
    },
    {
      "cell_type": "markdown",
      "source": [
        "That seemed to work! We have now generated a set of topics which seem to be close enough together in vector space to be related to the same larger topic. \n",
        "\n",
        "We will now write some functions to interpret the information derived from these groupings. The first thing we will do is write a function to extract the most used words for each topic, using [c-TF-IDF](https://github.com/MaartenGr/cTFIDF.git). This is a simple frequency-based method used to extract the most used terms within a corpus related to each topic:"
      ],
      "metadata": {
        "id": "UpQYPvfi5Eyk"
      }
    },
    {
      "cell_type": "code",
      "source": [
        "def get_top_topic_words(tweets_with_topics,n_words=5):\n",
        "\n",
        "  # Generate a corpus for each topic\n",
        "  docs_per_class = tweets_with_topics.groupby(['topic'],as_index=False).agg({\"tweet\":' '.join})\n",
        "\n",
        "  for doc in docs_per_class.iterrows():\n",
        "\n",
        "    doc = doc[1]\n",
        "    new_corpus = []\n",
        "\n",
        "    # Remove stop words from each corpus\n",
        "    for word in doc.tweet.split(' '):\n",
        "      if not(word.lower() in stopwords.words('english')):\n",
        "        new_corpus.append(word)\n",
        "    docs_per_class.tweet.loc[docs_per_class.topic == doc.topic] = ' '.join(new_corpus)\n",
        "\n",
        "  # Create c-TF-IDF\n",
        "  count_vectorizer = CountVectorizer().fit(docs_per_class.tweet)\n",
        "  count=count_vectorizer.transform(docs_per_class.tweet)\n",
        "  words=count_vectorizer.get_feature_names()\n",
        "\n",
        "  ctfidf = CTFIDFVectorizer().fit_transform(count, n_samples = len(tweets_with_topics)).toarray()\n",
        "\n",
        "  # Generate top words dictionary\n",
        "  top_words = {str(topic): [words[index] for index in ctfidf[topic+1].argsort()[-n_words:]] for topic in docs_per_class.topic}\n",
        "\n",
        "  return top_words"
      ],
      "metadata": {
        "id": "SrywUEi48_G4"
      },
      "execution_count": 131,
      "outputs": []
    },
    {
      "cell_type": "markdown",
      "source": [
        "Another revealing piece of information we can extract for each topic is the general sentiment of tweets found within that topic. For this task, we will use a [RoBERTa model](https://huggingface.co/finiteautomata/bertweet-base-sentiment-analysis), pretrained specifically for tweet sentiment analysis."
      ],
      "metadata": {
        "id": "zxlmtTlF5_t4"
      }
    },
    {
      "cell_type": "code",
      "source": [
        "def get_sentiment(tweets,n_sentiments):\n",
        "    \n",
        "    # Load tokenizer and model for sentiment analysis\n",
        "    device = torch.device('cuda' if torch.cuda.is_available() else 'cpu')\n",
        "    tokenizer = AutoTokenizer.from_pretrained(\"finiteautomata/bertweet-base-sentiment-analysis\",)\n",
        "    model = AutoModelForSequenceClassification.from_pretrained(\"finiteautomata/bertweet-base-sentiment-analysis\").to(device)\n",
        "    \n",
        "    # Generate average sentiment across n_sentiments tweets\n",
        "    outputs_list = []\n",
        "    for i in range(n_sentiments):\n",
        "      # Generate sentiment for a single tweet\n",
        "      inputs = tokenizer(tweets[i],return_tensors = 'pt',truncation = True)\n",
        "      outputs = model(**inputs.to(device)) \n",
        "      outputs_list.append([i.item() for i in outputs.logits[0]])\n",
        "\n",
        "    # Generate and return average sentiment \n",
        "    return np.array(outputs_list).mean(axis=0)"
      ],
      "metadata": {
        "id": "hFTBCngLCwGb"
      },
      "execution_count": 46,
      "outputs": []
    },
    {
      "cell_type": "markdown",
      "source": [
        "We can wrap up the above information-extraction functions into one function which outputs a DataFrame representing the information derived for each topic from the input DataFrame of tweets and their corresponding topics:"
      ],
      "metadata": {
        "id": "KuqjYtKo6zVP"
      }
    },
    {
      "cell_type": "code",
      "source": [
        "def get_topic_info(tweets_with_topics):\n",
        "\n",
        "  # Create data dictionary for topic information\n",
        "  data = {'topic':[],'top_words':[],'POS':[],'NEG':[],'NEU':[],'tweet_count':[]}\n",
        "\n",
        "  # Generate the top 10 words for each topic using c-TF-IDF\n",
        "  top_words = get_top_topic_words(tweets_with_topics,n_words = 10)\n",
        "\n",
        "  # Generate information for each topic\n",
        "  for topic in tweets_with_topics.topic.unique():\n",
        "\n",
        "    # Skip unclustered tweets topic\n",
        "    if topic == -1:\n",
        "      continue\n",
        "\n",
        "    # Generate average sentiment for 10 tweets from current topic\n",
        "    class_tweets = tweets_with_topics.tweet[tweets_with_topics['topic'] == topic].to_list()\n",
        "    sentiment = get_sentiment(class_tweets,10)\n",
        "\n",
        "    # Append topic information\n",
        "    data['topic'].append(topic)\n",
        "    data['top_words'].append(top_words[str(topic)])\n",
        "    data['POS'].append(sentiment[2])\n",
        "    data['NEG'].append(sentiment[0])\n",
        "    data['NEU'].append(sentiment[1])\n",
        "    data['tweet_count'].append(len(class_tweets))\n",
        "    \n",
        "  return pd.DataFrame(data = data)"
      ],
      "metadata": {
        "id": "g-lXlJpKbZVa"
      },
      "execution_count": 156,
      "outputs": []
    },
    {
      "cell_type": "markdown",
      "source": [
        "And one more function to explore the topic information for each topic, as well as print out some example tweets for that topic:"
      ],
      "metadata": {
        "id": "0M-xU8TU7Tr-"
      }
    },
    {
      "cell_type": "code",
      "source": [
        "def get_topic_example(tweets_with_topics,topic_info,topic_number):\n",
        "\n",
        "  # Get topic info for topic <topic_number>\n",
        "  info = topic_info[topic_info.topic == topic_number]\n",
        "\n",
        "  # Get tweets for topic <topic_number>\n",
        "  tweets = new_tweets_with_topics[new_tweets_with_topics.topic == topic_number].tweet\n",
        "\n",
        "  # Find maximum sentiment for topic\n",
        "  sentiments = [info.POS,info.NEG,info.NEU]\n",
        "  sentiment = np.argmax(sentiments)\n",
        "  if sentiment == 0:\n",
        "    sentiment='Positive'\n",
        "  elif sentiment == 1:\n",
        "    sentiment = 'Negative'\n",
        "  else:\n",
        "    sentiment = 'Neutral'\n",
        "\n",
        "  # Print information and tweet examples for topic\n",
        "  print('---Topic Info---')\n",
        "  print(f'Number of tweets: {info.tweet_count.item()}')\n",
        "  print(\"Sentiment: \"+sentiment)\n",
        "  print(f'Top words: {info.top_words.item()}')\n",
        "  print('\\n---Example tweets---')\n",
        "  for i,tweet in enumerate(random.choices(tweets.to_list(),k = 5)):\n",
        "    print(str(i+1)+'. '+tweet)\n",
        "\n"
      ],
      "metadata": {
        "id": "0H8skNvuCoEx"
      },
      "execution_count": 157,
      "outputs": []
    },
    {
      "cell_type": "markdown",
      "source": [
        "Let's get the topic info!"
      ],
      "metadata": {
        "id": "44zjmvxr7dtJ"
      }
    },
    {
      "cell_type": "code",
      "source": [
        "# Generate information for each topic\n",
        "topic_info = get_topic_info(new_tweets_with_topics)\n",
        "\n",
        "topic_info"
      ],
      "metadata": {
        "colab": {
          "base_uri": "https://localhost:8080/",
          "height": 332
        },
        "id": "JyZnvAcgQ_SV",
        "outputId": "a52bf176-935d-4678-9e84-4cee908a108d"
      },
      "execution_count": 170,
      "outputs": [
        {
          "output_type": "execute_result",
          "data": {
            "text/plain": [
              "   topic                                          top_words       POS  \\\n",
              "0      6  [f1, sports, formula1, race, racing, grand, pr...  0.843529   \n",
              "1      3  [light, even, thumbs, boring, calendar, cars, ... -1.233609   \n",
              "2      2  [speaking, daniel, happen, gp, tough, home, fe... -1.009525   \n",
              "3      5  [grand, prix, red, monaco, gp, win, sergio, ve...  1.557194   \n",
              "4      4  [yellow, bull, red, new, one, notes, rule, rul... -2.028589   \n",
              "5      0  [joy, rolling, tears, 2022, drivers, floor, la... -0.055291   \n",
              "6      1  [want, wolff, race, news, points, didnt, ocon,... -1.778916   \n",
              "7      7  [former, second, swede, driver, win, indy, 500...  1.779052   \n",
              "8      8  [match, cola600, check, coca, indycar, motorsp...  1.247729   \n",
              "\n",
              "        NEG       NEU  tweet_count  \n",
              "0 -3.386930  2.301096          123  \n",
              "1  0.157484  1.075400           53  \n",
              "2 -0.810130  1.746507           45  \n",
              "3 -2.740254  1.028896          138  \n",
              "4  1.142650  0.928538           98  \n",
              "5 -1.831694  1.750429           17  \n",
              "6  0.817932  1.004478           38  \n",
              "7 -2.894461  0.956459           31  \n",
              "8 -3.050112  1.596168           17  "
            ],
            "text/html": [
              "\n",
              "  <div id=\"df-17f30b6c-d2bf-4597-86a7-daa914ac458e\">\n",
              "    <div class=\"colab-df-container\">\n",
              "      <div>\n",
              "<style scoped>\n",
              "    .dataframe tbody tr th:only-of-type {\n",
              "        vertical-align: middle;\n",
              "    }\n",
              "\n",
              "    .dataframe tbody tr th {\n",
              "        vertical-align: top;\n",
              "    }\n",
              "\n",
              "    .dataframe thead th {\n",
              "        text-align: right;\n",
              "    }\n",
              "</style>\n",
              "<table border=\"1\" class=\"dataframe\">\n",
              "  <thead>\n",
              "    <tr style=\"text-align: right;\">\n",
              "      <th></th>\n",
              "      <th>topic</th>\n",
              "      <th>top_words</th>\n",
              "      <th>POS</th>\n",
              "      <th>NEG</th>\n",
              "      <th>NEU</th>\n",
              "      <th>tweet_count</th>\n",
              "    </tr>\n",
              "  </thead>\n",
              "  <tbody>\n",
              "    <tr>\n",
              "      <th>0</th>\n",
              "      <td>6</td>\n",
              "      <td>[f1, sports, formula1, race, racing, grand, pr...</td>\n",
              "      <td>0.843529</td>\n",
              "      <td>-3.386930</td>\n",
              "      <td>2.301096</td>\n",
              "      <td>123</td>\n",
              "    </tr>\n",
              "    <tr>\n",
              "      <th>1</th>\n",
              "      <td>3</td>\n",
              "      <td>[light, even, thumbs, boring, calendar, cars, ...</td>\n",
              "      <td>-1.233609</td>\n",
              "      <td>0.157484</td>\n",
              "      <td>1.075400</td>\n",
              "      <td>53</td>\n",
              "    </tr>\n",
              "    <tr>\n",
              "      <th>2</th>\n",
              "      <td>2</td>\n",
              "      <td>[speaking, daniel, happen, gp, tough, home, fe...</td>\n",
              "      <td>-1.009525</td>\n",
              "      <td>-0.810130</td>\n",
              "      <td>1.746507</td>\n",
              "      <td>45</td>\n",
              "    </tr>\n",
              "    <tr>\n",
              "      <th>3</th>\n",
              "      <td>5</td>\n",
              "      <td>[grand, prix, red, monaco, gp, win, sergio, ve...</td>\n",
              "      <td>1.557194</td>\n",
              "      <td>-2.740254</td>\n",
              "      <td>1.028896</td>\n",
              "      <td>138</td>\n",
              "    </tr>\n",
              "    <tr>\n",
              "      <th>4</th>\n",
              "      <td>4</td>\n",
              "      <td>[yellow, bull, red, new, one, notes, rule, rul...</td>\n",
              "      <td>-2.028589</td>\n",
              "      <td>1.142650</td>\n",
              "      <td>0.928538</td>\n",
              "      <td>98</td>\n",
              "    </tr>\n",
              "    <tr>\n",
              "      <th>5</th>\n",
              "      <td>0</td>\n",
              "      <td>[joy, rolling, tears, 2022, drivers, floor, la...</td>\n",
              "      <td>-0.055291</td>\n",
              "      <td>-1.831694</td>\n",
              "      <td>1.750429</td>\n",
              "      <td>17</td>\n",
              "    </tr>\n",
              "    <tr>\n",
              "      <th>6</th>\n",
              "      <td>1</td>\n",
              "      <td>[want, wolff, race, news, points, didnt, ocon,...</td>\n",
              "      <td>-1.778916</td>\n",
              "      <td>0.817932</td>\n",
              "      <td>1.004478</td>\n",
              "      <td>38</td>\n",
              "    </tr>\n",
              "    <tr>\n",
              "      <th>7</th>\n",
              "      <td>7</td>\n",
              "      <td>[former, second, swede, driver, win, indy, 500...</td>\n",
              "      <td>1.779052</td>\n",
              "      <td>-2.894461</td>\n",
              "      <td>0.956459</td>\n",
              "      <td>31</td>\n",
              "    </tr>\n",
              "    <tr>\n",
              "      <th>8</th>\n",
              "      <td>8</td>\n",
              "      <td>[match, cola600, check, coca, indycar, motorsp...</td>\n",
              "      <td>1.247729</td>\n",
              "      <td>-3.050112</td>\n",
              "      <td>1.596168</td>\n",
              "      <td>17</td>\n",
              "    </tr>\n",
              "  </tbody>\n",
              "</table>\n",
              "</div>\n",
              "      <button class=\"colab-df-convert\" onclick=\"convertToInteractive('df-17f30b6c-d2bf-4597-86a7-daa914ac458e')\"\n",
              "              title=\"Convert this dataframe to an interactive table.\"\n",
              "              style=\"display:none;\">\n",
              "        \n",
              "  <svg xmlns=\"http://www.w3.org/2000/svg\" height=\"24px\"viewBox=\"0 0 24 24\"\n",
              "       width=\"24px\">\n",
              "    <path d=\"M0 0h24v24H0V0z\" fill=\"none\"/>\n",
              "    <path d=\"M18.56 5.44l.94 2.06.94-2.06 2.06-.94-2.06-.94-.94-2.06-.94 2.06-2.06.94zm-11 1L8.5 8.5l.94-2.06 2.06-.94-2.06-.94L8.5 2.5l-.94 2.06-2.06.94zm10 10l.94 2.06.94-2.06 2.06-.94-2.06-.94-.94-2.06-.94 2.06-2.06.94z\"/><path d=\"M17.41 7.96l-1.37-1.37c-.4-.4-.92-.59-1.43-.59-.52 0-1.04.2-1.43.59L10.3 9.45l-7.72 7.72c-.78.78-.78 2.05 0 2.83L4 21.41c.39.39.9.59 1.41.59.51 0 1.02-.2 1.41-.59l7.78-7.78 2.81-2.81c.8-.78.8-2.07 0-2.86zM5.41 20L4 18.59l7.72-7.72 1.47 1.35L5.41 20z\"/>\n",
              "  </svg>\n",
              "      </button>\n",
              "      \n",
              "  <style>\n",
              "    .colab-df-container {\n",
              "      display:flex;\n",
              "      flex-wrap:wrap;\n",
              "      gap: 12px;\n",
              "    }\n",
              "\n",
              "    .colab-df-convert {\n",
              "      background-color: #E8F0FE;\n",
              "      border: none;\n",
              "      border-radius: 50%;\n",
              "      cursor: pointer;\n",
              "      display: none;\n",
              "      fill: #1967D2;\n",
              "      height: 32px;\n",
              "      padding: 0 0 0 0;\n",
              "      width: 32px;\n",
              "    }\n",
              "\n",
              "    .colab-df-convert:hover {\n",
              "      background-color: #E2EBFA;\n",
              "      box-shadow: 0px 1px 2px rgba(60, 64, 67, 0.3), 0px 1px 3px 1px rgba(60, 64, 67, 0.15);\n",
              "      fill: #174EA6;\n",
              "    }\n",
              "\n",
              "    [theme=dark] .colab-df-convert {\n",
              "      background-color: #3B4455;\n",
              "      fill: #D2E3FC;\n",
              "    }\n",
              "\n",
              "    [theme=dark] .colab-df-convert:hover {\n",
              "      background-color: #434B5C;\n",
              "      box-shadow: 0px 1px 3px 1px rgba(0, 0, 0, 0.15);\n",
              "      filter: drop-shadow(0px 1px 2px rgba(0, 0, 0, 0.3));\n",
              "      fill: #FFFFFF;\n",
              "    }\n",
              "  </style>\n",
              "\n",
              "      <script>\n",
              "        const buttonEl =\n",
              "          document.querySelector('#df-17f30b6c-d2bf-4597-86a7-daa914ac458e button.colab-df-convert');\n",
              "        buttonEl.style.display =\n",
              "          google.colab.kernel.accessAllowed ? 'block' : 'none';\n",
              "\n",
              "        async function convertToInteractive(key) {\n",
              "          const element = document.querySelector('#df-17f30b6c-d2bf-4597-86a7-daa914ac458e');\n",
              "          const dataTable =\n",
              "            await google.colab.kernel.invokeFunction('convertToInteractive',\n",
              "                                                     [key], {});\n",
              "          if (!dataTable) return;\n",
              "\n",
              "          const docLinkHtml = 'Like what you see? Visit the ' +\n",
              "            '<a target=\"_blank\" href=https://colab.research.google.com/notebooks/data_table.ipynb>data table notebook</a>'\n",
              "            + ' to learn more about interactive tables.';\n",
              "          element.innerHTML = '';\n",
              "          dataTable['output_type'] = 'display_data';\n",
              "          await google.colab.output.renderOutput(dataTable, element);\n",
              "          const docLink = document.createElement('div');\n",
              "          docLink.innerHTML = docLinkHtml;\n",
              "          element.appendChild(docLink);\n",
              "        }\n",
              "      </script>\n",
              "    </div>\n",
              "  </div>\n",
              "  "
            ]
          },
          "metadata": {},
          "execution_count": 170
        }
      ]
    },
    {
      "cell_type": "markdown",
      "source": [
        "Looks good. Now we can use `get_topic_example` to further examine the top three largest topics and evaluate their content:"
      ],
      "metadata": {
        "id": "4fvjtPlm7haH"
      }
    },
    {
      "cell_type": "code",
      "source": [
        "get_topic_example(new_tweets_with_topics,topic_info,4)"
      ],
      "metadata": {
        "colab": {
          "base_uri": "https://localhost:8080/"
        },
        "id": "D2SLsk9ZF8LO",
        "outputId": "d457cae2-e28d-4bd0-e7cc-b5c4a502734a"
      },
      "execution_count": 161,
      "outputs": [
        {
          "output_type": "stream",
          "name": "stdout",
          "text": [
            "---Topic Info---\n",
            "Number of tweets: 98\n",
            "Sentiment: Negative\n",
            "Top words: ['yellow', 'bull', 'red', 'new', 'one', 'notes', 'rule', 'rules', 'line', 'fia']\n",
            "\n",
            "---Example tweets---\n",
            "1. Why are the Abu Dhabi stewards still f1 stewards?  ?\n",
            "2. I wonder if those Ferrari fans who were a bit on the fence after AD farce are beginning to realise that fia's loose handling of the rules may after all affect more than just one team? f1 monaco gp\n",
            "3. Does  have the right holding up charles leclerc like that!? Isnt he supposed to let him through immediately!?  monaco gp f1\n",
            "4. How long is it going to take  to realise that every racing issue they have is a result of the  ballsing it up, either accidentally or intentionally ($$$) and destroying the integrity of f1? Im sick of this bullshit.  unamused face\n",
            "5. The incompetence of the  and their rule makers just amazes me week after week. f1 needs a breakaway from the FIA and run the sport themselves, properly, with concrete rules.\n"
          ]
        }
      ]
    },
    {
      "cell_type": "markdown",
      "source": [
        "Of course this is a big one. Are you really a Formula1 fan if you don't complain about rulings made by the FIA and bad calls from the stewards? This topic appears to be outraged fans complaining about the many dicey calls made by officials at yesterday's Grand Prix. The sentiment was appropriately identified as negative, and among the top words, revealing words include *rule, rules, fia,* and *line*. \n",
        "\n",
        "I am not sure if `bull` refers to Red Bull Racing or something else..."
      ],
      "metadata": {
        "id": "a-12RUnP8arP"
      }
    },
    {
      "cell_type": "code",
      "source": [
        "get_topic_example(new_tweets_with_topics,topic_info,6)"
      ],
      "metadata": {
        "colab": {
          "base_uri": "https://localhost:8080/"
        },
        "id": "gd55kai07Wi6",
        "outputId": "22d1a3cb-a533-4474-9339-b8dc411d41c9"
      },
      "execution_count": 165,
      "outputs": [
        {
          "output_type": "stream",
          "name": "stdout",
          "text": [
            "---Topic Info---\n",
            "Number of tweets: 123\n",
            "Sentiment: Neutral\n",
            "Top words: ['f1', 'sports', 'formula1', 'race', 'racing', 'grand', 'prix', 'monaco', '2022', 'gp']\n",
            "\n",
            "---Example tweets---\n",
            "1. What a monaco gp this was! Epic rain first half and a  train for the 2nd. Listen in (links in comments) as  guests on 100 seconds. But did Pit Lane Paul  bring the incredible  of  to open his segment? dirtyside f1\n",
            "2. Surpsingly interesting race at Monaco. Lots of overtakes, strategy drama, Red flags, penalties. 2022 is turning out to be one of the best seasons in modern F1 era. f1 monaco gp\n",
            "3. 2022 Monaco Grand Prix Review -   In this video, I give you my thoughts about the 2022 Monaco Grand Prix Review.   monaco grand prix monaco gp f1\n",
            "4. OFFICIAL f1 Report: Haas F1 - Monaco GP Race  f1 f1 reports monaco gp\n",
            "5. F1 2021 SimRacing my favorite picture  f1 sim racing formula1 codemasters alpine russia russiagp bestpicture\n"
          ]
        }
      ]
    },
    {
      "cell_type": "markdown",
      "source": [
        "This topic appears to be general news reports related to yesterdays Grand Prix. The keywords are very revealing in their generality, and the neutral sentiment likely arrises from the non-biased style of many headlines being reported. "
      ],
      "metadata": {
        "id": "bhRQbGcS-ZOK"
      }
    },
    {
      "cell_type": "code",
      "source": [
        "get_topic_example(new_tweets_with_topics,topic_info,5)"
      ],
      "metadata": {
        "colab": {
          "base_uri": "https://localhost:8080/"
        },
        "id": "sJWbnzolQmhu",
        "outputId": "ce88d384-4296-429c-ac26-45b8ab0b1865"
      },
      "execution_count": 169,
      "outputs": [
        {
          "output_type": "stream",
          "name": "stdout",
          "text": [
            "---Topic Info---\n",
            "Number of tweets: 138\n",
            "Sentiment: Positive\n",
            "Top words: ['grand', 'prix', 'red', 'monaco', 'gp', 'win', 'sergio', 'verstappen', 'checo', 'perez']\n",
            "\n",
            "---Example tweets---\n",
            "1. Another weekend, another where George betters  on Saturday and Sunday.  is out performing a seven-time world champion, and he isnt getting the plaudits he should be.  Great job, George!  clapping hands light skin tone   monaco gp f1\n",
            "2. Great to see  keeping up with the now  win tradition started by  &amp; Sebastian Vettel in 2010... f1 monaco gp\n",
            "3. f1  Mexico    WINS IN MONACO!!!   The Mexican takes the chequered flag after an extraordinary race, Sainz finishes second, Verstappen third  monaco gp f1\n",
            "4. Another weekend, another where George betters  on Saturday and Sunday.  is out performing a seven-time world champion, and he isnt getting the plaudits he should be.  Great job, George!  clapping hands light skin tone   monaco gp f1\n",
            "5. Away from his mistake-littered start at Red Bull, Sergio Perez is without a doubt one of the most consistent performers on the grid, even on the day when the car isn't in top gear. When it is, it's an even bigger blessing and nobody can deny him today's win in Monaco. f1\n"
          ]
        }
      ]
    },
    {
      "cell_type": "markdown",
      "source": [
        "Finally some good news! Checo wins his first Monaco Grand Prix! The online community seems elated for him, and everyone is talking about it. When you look more into this topic, it actually represents generally congratulatory remarks for any driver (notice the tweets congratulating George on his great performance). This topic clearly has a positive sentiment, and the most used words for the topic include *win, sergio, perez* and *checo*, all of these words reffering to the winner of the race."
      ],
      "metadata": {
        "id": "EJy8RJgh-0qK"
      }
    },
    {
      "cell_type": "markdown",
      "source": [
        "After looking at these topics, I think that our exercise in topic modeling was largely succesful, with these topics being clear and relatively consistent across the tweets contained within them. I think that the performance of the various algorithms used could be improved through the use of more precise pre-processing of the tweets, but our approach seems to have worked well enough for this tutorial.\n",
        "\n",
        "I sincerely hope that you come away from this with a better understanding of topic modeling, and with some more tools in your belt for tackling NLP problems!"
      ],
      "metadata": {
        "id": "bFa_h3wl_vsP"
      }
    }
  ]
}